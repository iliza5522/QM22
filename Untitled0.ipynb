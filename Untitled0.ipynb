{
  "nbformat": 4,
  "nbformat_minor": 0,
  "metadata": {
    "colab": {
      "provenance": [],
      "include_colab_link": true
    },
    "kernelspec": {
      "name": "python3",
      "display_name": "Python 3"
    },
    "language_info": {
      "name": "python"
    }
  },
  "cells": [
    {
      "cell_type": "markdown",
      "metadata": {
        "id": "view-in-github",
        "colab_type": "text"
      },
      "source": [
        "<a href=\"https://colab.research.google.com/github/iliza5522/QM22/blob/main/Untitled0.ipynb\" target=\"_parent\"><img src=\"https://colab.research.google.com/assets/colab-badge.svg\" alt=\"Open In Colab\"/></a>"
      ]
    },
    {
      "cell_type": "code",
      "execution_count": 50,
      "metadata": {
        "id": "MZ8XO9O-rcJ-",
        "colab": {
          "base_uri": "https://localhost:8080/"
        },
        "outputId": "52cb97d7-c844-4a0c-cdde-f68c9db699b8"
      },
      "outputs": [
        {
          "output_type": "stream",
          "name": "stderr",
          "text": [
            "/usr/local/lib/python3.10/dist-packages/ipykernel/ipkernel.py:283: DeprecationWarning: `should_run_async` will not call `transform_cell` automatically in the future. Please pass the result to `transformed_cell` argument and any exception that happen during thetransform in `preprocessing_exc_tuple` in IPython 7.17 and above.\n",
            "  and should_run_async(code)\n"
          ]
        }
      ],
      "source": [
        "%%capture\n",
        "!pip install spacy\n",
        "!pip install scattertext\n",
        "!pip install tika\n",
        "!pip install spacytextblob\n",
        "!python -m spacy download en_core_web_sm\n",
        "\n",
        "!pip install pyLDAvis\n",
        "\n"
      ]
    },
    {
      "cell_type": "code",
      "source": [
        "import requests\n",
        "from bs4 import BeautifulSoup\n",
        "from nltk.corpus import stopwords\n",
        "from nltk.tokenize import word_tokenize\n",
        "import re\n",
        "from gensim import corpora\n",
        "from gensim.models import LdaModel\n",
        "import nltk\n",
        "import pyLDAvis\n",
        "import pyLDAvis.gensim_models as gensimvis\n",
        "nltk.download('punkt_tab')\n",
        "nltk.download('stopwords')\n",
        "nltk.download('punkt')\n",
        "\n",
        "\n",
        "import spacy\n",
        "import json\n",
        "import pylab\n",
        "from IPython.core.display import display, HTML\n",
        "import nltk\n",
        "from tika import parser\n",
        "import numpy as np\n",
        "import pandas as pd\n",
        "import matplotlib.pyplot as plt\n",
        "from spacytextblob.spacytextblob import SpacyTextBlob\n",
        "\n",
        "%matplotlib inline\n",
        "pylab.rcParams['figure.figsize'] = (10., 8.)\n",
        "nlp = spacy.load(\"en_core_web_sm\")\n",
        "nlp.add_pipe('spacytextblob')"
      ],
      "metadata": {
        "id": "eKZyJLDlgUOR",
        "outputId": "20b37dde-a000-4a24-a039-486322d1fec4",
        "colab": {
          "base_uri": "https://localhost:8080/"
        }
      },
      "execution_count": 21,
      "outputs": [
        {
          "output_type": "stream",
          "name": "stderr",
          "text": [
            "/usr/local/lib/python3.10/dist-packages/ipykernel/ipkernel.py:283: DeprecationWarning: `should_run_async` will not call `transform_cell` automatically in the future. Please pass the result to `transformed_cell` argument and any exception that happen during thetransform in `preprocessing_exc_tuple` in IPython 7.17 and above.\n",
            "  and should_run_async(code)\n",
            "[nltk_data] Downloading package punkt_tab to /root/nltk_data...\n",
            "[nltk_data]   Package punkt_tab is already up-to-date!\n",
            "[nltk_data] Downloading package stopwords to /root/nltk_data...\n",
            "[nltk_data]   Package stopwords is already up-to-date!\n",
            "[nltk_data] Downloading package punkt to /root/nltk_data...\n",
            "[nltk_data]   Unzipping tokenizers/punkt.zip.\n"
          ]
        },
        {
          "output_type": "execute_result",
          "data": {
            "text/plain": [
              "<spacytextblob.spacytextblob.SpacyTextBlob at 0x79f6366481c0>"
            ]
          },
          "metadata": {},
          "execution_count": 21
        }
      ]
    },
    {
      "cell_type": "code",
      "source": [
        "urls = [\n",
        "    'https://merics.org/en/analysis/bri-pakistan-chinas-flagship-economic-corridor',\n",
        "    'https://www.brecorder.com/news/397830',\n",
        "    'https://cpec.gov.pk/science-technology',\n",
        "    'https://chinapower.csis.org/china-belt-and-road-initiative/',\n",
        "    'https://unctad.org/system/files/information-document/BRI-Project_policy-brief-01_en.pdf',\n",
        "    'https://www.worldbank.org/en/topic/regional-integration/brief/belt-and-road-initiative',\n",
        "    'https://greenfdc.org/china-belt-and-road-initiative-bri-investment-report-2023/',\n",
        "    'https://www.sciencedirect.com/science/article/abs/pii/S106297692030171X',\n",
        "    'https://www.internationalaffairs.org.au/australianoutlook/china-pakistan-and-the-belt-and-road-initiative-10-years-of-the-china-pakistan-economic-corridor/',\n",
        "    'https://www.brookings.edu/articles/at-all-costs-how-pakistan-and-china-control-the-narrative-on-the-china-pakistan-economic-corridor/',\n",
        "    'https://www.bbc.co.uk/news/world-asia-66981742',\n",
        "    'https://www.cfr.org/backgrounder/chinas-massive-belt-and-road-initiative',\n",
        "    'https://www.crisisgroup.org/asia/south-asia/pakistan/297-china-pakistan-economic-corridor-opportunities-and-risks',\n",
        "    'https://www.icwa.in/show_content.php?lang=1&level=3&ls_id=5103&lid=835',\n",
        "    'https://www.lowyinstitute.org/the-interpreter/china-s-big-gamble-pakistan-10-year-scorecard-cpec',\n",
        "    'https://www.eurasiareview.com/08012025-the-transformative-power-of-cpec-oped/',\n",
        "    'https://moderndiplomacy.eu/2025/01/07/cpec-transformative-power/',\n",
        "    'https://moderndiplomacy.eu/2025/01/02/10-years-of-cpec-a-decade-of-progress/',\n",
        "    'https://thediplomat.com/2024/06/pakistan-china-agree-to-upgrade-cpec/',\n",
        "    'https://www.sciencedirect.com/science/article/abs/pii/S0960148122003494',\n",
        "    'https://www.energypolicy.columbia.edu/publications/china-pakistan-economic-corridor-power-projects-insights-environmental-and-debt-sustainability/',\n",
        "    'https://www.nature.com/articles/s41598-024-81173-9',\n",
        "    'https://profit.pakistantoday.com.pk/2025/01/07/pakistan-to-revise-power-supply-mechanism-to-cpec-sezs/',\n",
        "    'https://ieefa.org/resources/ieefa-china-and-pakistans-no-more-coal-power-pledges-dont-hold-scrutiny',\n",
        "    'https://www.gatewayhouse.in/cpec-pakistan/',\n",
        "    'https://www.efchina.org/Blog-en/blog-20181213-en',\n",
        "    'https://journals.scholarpublishing.org/index.php/ASSRJ/article/view/4841/3019',\n",
        "    'https://www.brecorder.com/news/40341729/gwadar-port-planning-minister-seeks-marketing-templates-packages-for-cost-effective-trade-routes',\n",
        "    'https://www.dawn.com/news/1850539',\n",
        "    'https://pmc.ncbi.nlm.nih.gov/articles/PMC9004670/'\n",
        "]"
      ],
      "metadata": {
        "id": "OFENFDTJoB6R",
        "colab": {
          "base_uri": "https://localhost:8080/"
        },
        "outputId": "28bafb5a-6831-4565-8aee-56a2ab56c959"
      },
      "execution_count": 78,
      "outputs": [
        {
          "output_type": "stream",
          "name": "stderr",
          "text": [
            "/usr/local/lib/python3.10/dist-packages/ipykernel/ipkernel.py:283: DeprecationWarning: `should_run_async` will not call `transform_cell` automatically in the future. Please pass the result to `transformed_cell` argument and any exception that happen during thetransform in `preprocessing_exc_tuple` in IPython 7.17 and above.\n",
            "  and should_run_async(code)\n"
          ]
        }
      ]
    },
    {
      "cell_type": "code",
      "source": [
        "def scrape_article(url):\n",
        "  try:\n",
        "    response = requests.get(url)\n",
        "    soup = BeautifulSoup(response.text, 'html.parser')\n",
        "    paragraphs = soup.find_all('p')\n",
        "    article_text = ' '.join([p.text for p in paragraphs])\n",
        "    return article_text\n",
        "\n",
        "  except requests.exceptions.RequestException as e:\n",
        "    print(f\"Error fetching URL: {e}\")\n",
        "    return None\n",
        "  except AttributeError as e:\n",
        "    print(f\"Error parsing HTML: {e}\")\n",
        "    return None\n",
        "\n",
        "articles = [scrape_article(url) for url in urls]\n",
        "\n"
      ],
      "metadata": {
        "id": "qDRZITAY5oDd",
        "colab": {
          "base_uri": "https://localhost:8080/"
        },
        "outputId": "cbcb401d-5700-4044-aab6-39977dfe01fd"
      },
      "execution_count": 79,
      "outputs": [
        {
          "output_type": "stream",
          "name": "stderr",
          "text": [
            "/usr/local/lib/python3.10/dist-packages/ipykernel/ipkernel.py:283: DeprecationWarning: `should_run_async` will not call `transform_cell` automatically in the future. Please pass the result to `transformed_cell` argument and any exception that happen during thetransform in `preprocessing_exc_tuple` in IPython 7.17 and above.\n",
            "  and should_run_async(code)\n"
          ]
        }
      ]
    },
    {
      "cell_type": "code",
      "source": [
        "def preprocess_text(text):\n",
        "  text = text.lower()\n",
        "  text = re.sub(r'[^a-z\\s]', '', text)\n",
        "  tokens = word_tokenize(text)\n",
        "  stop_words = set(stopwords.words('english'))\n",
        "  tokens = [word for word in tokens if word not in stop_words and len(word) > 1]\n",
        "  return tokens\n"
      ],
      "metadata": {
        "id": "9cbMgwET6nIK",
        "colab": {
          "base_uri": "https://localhost:8080/"
        },
        "outputId": "5ec9a5da-122f-4c5a-a515-de638501e321"
      },
      "execution_count": 80,
      "outputs": [
        {
          "output_type": "stream",
          "name": "stderr",
          "text": [
            "/usr/local/lib/python3.10/dist-packages/ipykernel/ipkernel.py:283: DeprecationWarning: `should_run_async` will not call `transform_cell` automatically in the future. Please pass the result to `transformed_cell` argument and any exception that happen during thetransform in `preprocessing_exc_tuple` in IPython 7.17 and above.\n",
            "  and should_run_async(code)\n"
          ]
        }
      ]
    },
    {
      "cell_type": "code",
      "source": [
        "cleaned_articles = [preprocess_text(article) for article in articles]\n",
        "dictionary = corpora.Dictionary(cleaned_articles)\n",
        "corpus = [dictionary.doc2bow(article) for article in cleaned_articles]\n",
        "\n",
        "lda_model = LdaModel(corpus, id2word=dictionary, num_topics=50, passes=2)\n",
        "\n",
        "topics = lda_model.print_topics(num_words=50)\n",
        "for topic in topics:\n",
        "  print(topic)"
      ],
      "metadata": {
        "id": "FdzX5fvz7Stv",
        "colab": {
          "base_uri": "https://localhost:8080/"
        },
        "outputId": "7c84f6f4-9d17-4310-e379-952bfbe61f95"
      },
      "execution_count": 91,
      "outputs": [
        {
          "output_type": "stream",
          "name": "stderr",
          "text": [
            "/usr/local/lib/python3.10/dist-packages/ipykernel/ipkernel.py:283: DeprecationWarning: `should_run_async` will not call `transform_cell` automatically in the future. Please pass the result to `transformed_cell` argument and any exception that happen during thetransform in `preprocessing_exc_tuple` in IPython 7.17 and above.\n",
            "  and should_run_async(code)\n",
            "WARNING:gensim.models.ldamodel:too few updates, training might not converge; consider increasing the number of passes or iterations to improve accuracy\n"
          ]
        },
        {
          "output_type": "stream",
          "name": "stdout",
          "text": [
            "(48, '0.005*\"road\" + 0.004*\"china\" + 0.004*\"chinese\" + 0.003*\"belt\" + 0.003*\"initiative\" + 0.003*\"pakistan\" + 0.003*\"bri\" + 0.002*\"chinas\" + 0.002*\"economic\" + 0.002*\"energy\" + 0.002*\"trade\" + 0.002*\"projects\" + 0.002*\"asia\" + 0.002*\"world\" + 0.002*\"infrastructure\" + 0.001*\"countries\" + 0.001*\"billion\" + 0.001*\"economies\" + 0.001*\"april\" + 0.001*\"international\" + 0.001*\"project\" + 0.001*\"new\" + 0.001*\"english\" + 0.001*\"risks\" + 0.001*\"power\" + 0.001*\"corridor\" + 0.001*\"also\" + 0.001*\"investments\" + 0.001*\"development\" + 0.001*\"pakistans\" + 0.001*\"xi\" + 0.001*\"india\" + 0.001*\"efficiency\" + 0.001*\"usd\" + 0.001*\"investment\" + 0.001*\"foreign\" + 0.001*\"debt\" + 0.001*\"bank\" + 0.001*\"engagement\" + 0.001*\"published\" + 0.001*\"research\" + 0.001*\"us\" + 0.001*\"visit\" + 0.001*\"financial\" + 0.001*\"cpec\" + 0.001*\"major\" + 0.001*\"one\" + 0.001*\"silk\" + 0.001*\"along\" + 0.001*\"group\"')\n",
            "(23, '0.007*\"energy\" + 0.007*\"power\" + 0.005*\"china\" + 0.005*\"sezs\" + 0.005*\"bri\" + 0.004*\"countries\" + 0.004*\"chinese\" + 0.004*\"development\" + 0.004*\"engagement\" + 0.004*\"projects\" + 0.004*\"economic\" + 0.004*\"billion\" + 0.004*\"usd\" + 0.003*\"chinas\" + 0.003*\"pakistan\" + 0.003*\"electricity\" + 0.003*\"investments\" + 0.003*\"supply\" + 0.003*\"distribution\" + 0.003*\"cpec\" + 0.002*\"also\" + 0.002*\"green\" + 0.002*\"international\" + 0.002*\"investment\" + 0.002*\"project\" + 0.002*\"construction\" + 0.002*\"industrial\" + 0.002*\"agreement\" + 0.002*\"infrastructure\" + 0.002*\"finance\" + 0.002*\"financial\" + 0.002*\"mechanism\" + 0.002*\"gwadar\" + 0.002*\"debt\" + 0.002*\"ministry\" + 0.002*\"including\" + 0.002*\"discos\" + 0.002*\"efficiency\" + 0.002*\"corridor\" + 0.002*\"foreign\" + 0.002*\"nepra\" + 0.002*\"would\" + 0.002*\"initiative\" + 0.002*\"road\" + 0.002*\"global\" + 0.002*\"asia\" + 0.001*\"trade\" + 0.001*\"renewable\" + 0.001*\"growth\" + 0.001*\"pakistans\"')\n",
            "(25, '0.013*\"energy\" + 0.006*\"renewable\" + 0.005*\"efficiency\" + 0.004*\"china\" + 0.004*\"projects\" + 0.003*\"project\" + 0.003*\"cpec\" + 0.003*\"bri\" + 0.002*\"production\" + 0.002*\"infrastructure\" + 0.002*\"chinese\" + 0.002*\"development\" + 0.002*\"chinas\" + 0.002*\"engagement\" + 0.002*\"power\" + 0.002*\"economic\" + 0.002*\"usd\" + 0.002*\"solar\" + 0.002*\"within\" + 0.002*\"pakistan\" + 0.002*\"road\" + 0.002*\"study\" + 0.002*\"investment\" + 0.002*\"countries\" + 0.002*\"billion\" + 0.002*\"also\" + 0.001*\"environmental\" + 0.001*\"policy\" + 0.001*\"significant\" + 0.001*\"investments\" + 0.001*\"overall\" + 0.001*\"geothermal\" + 0.001*\"data\" + 0.001*\"international\" + 0.001*\"impact\" + 0.001*\"jobs\" + 0.001*\"asia\" + 0.001*\"construction\" + 0.001*\"pv\" + 0.001*\"analysis\" + 0.001*\"sector\" + 0.001*\"green\" + 0.001*\"sources\" + 0.001*\"scholar\" + 0.001*\"financial\" + 0.001*\"initiative\" + 0.001*\"one\" + 0.001*\"research\" + 0.001*\"challenges\" + 0.001*\"google\"')\n",
            "(3, '0.009*\"energy\" + 0.007*\"content\" + 0.007*\"site\" + 0.006*\"efficiency\" + 0.005*\"china\" + 0.005*\"data\" + 0.004*\"technologies\" + 0.004*\"support\" + 0.004*\"including\" + 0.004*\"provide\" + 0.004*\"used\" + 0.004*\"relevant\" + 0.004*\"access\" + 0.004*\"open\" + 0.004*\"training\" + 0.004*\"please\" + 0.004*\"apply\" + 0.004*\"renewable\" + 0.004*\"information\" + 0.004*\"team\" + 0.004*\"similar\" + 0.004*\"details\" + 0.004*\"elsevier\" + 0.004*\"cookie\" + 0.004*\"bv\" + 0.004*\"reserved\" + 0.004*\"ai\" + 0.004*\"settings\" + 0.004*\"text\" + 0.004*\"contributors\" + 0.004*\"licensing\" + 0.004*\"cookies\" + 0.004*\"contact\" + 0.004*\"licensors\" + 0.004*\"copyright\" + 0.004*\"rights\" + 0.004*\"mining\" + 0.004*\"economic\" + 0.003*\"terms\" + 0.003*\"pakistan\" + 0.003*\"production\" + 0.003*\"chinas\" + 0.002*\"projects\" + 0.002*\"cpec\" + 0.002*\"development\" + 0.002*\"analysis\" + 0.002*\"bri\" + 0.002*\"within\" + 0.002*\"chinese\" + 0.002*\"countries\"')\n",
            "(19, '0.008*\"china\" + 0.008*\"energy\" + 0.005*\"chinas\" + 0.004*\"projects\" + 0.004*\"economic\" + 0.004*\"countries\" + 0.004*\"bri\" + 0.003*\"power\" + 0.003*\"chinese\" + 0.003*\"infrastructure\" + 0.003*\"development\" + 0.003*\"pakistan\" + 0.003*\"gwadar\" + 0.003*\"investment\" + 0.003*\"efficiency\" + 0.002*\"asia\" + 0.002*\"road\" + 0.002*\"trade\" + 0.002*\"ministry\" + 0.002*\"initiative\" + 0.002*\"also\" + 0.002*\"us\" + 0.002*\"port\" + 0.002*\"india\" + 0.002*\"foreign\" + 0.002*\"belt\" + 0.002*\"international\" + 0.002*\"renewable\" + 0.002*\"cpec\" + 0.002*\"billion\" + 0.002*\"engagement\" + 0.002*\"electricity\" + 0.001*\"global\" + 0.001*\"analysis\" + 0.001*\"solar\" + 0.001*\"potential\" + 0.001*\"regional\" + 0.001*\"corridor\" + 0.001*\"investments\" + 0.001*\"sezs\" + 0.001*\"ahsan\" + 0.001*\"central\" + 0.001*\"new\" + 0.001*\"pakistans\" + 0.001*\"usd\" + 0.001*\"april\" + 0.001*\"supply\" + 0.001*\"within\" + 0.001*\"could\" + 0.001*\"xi\"')\n",
            "(44, '0.013*\"energy\" + 0.009*\"china\" + 0.008*\"bri\" + 0.007*\"cpec\" + 0.006*\"belt\" + 0.006*\"projects\" + 0.006*\"road\" + 0.005*\"initiative\" + 0.005*\"economic\" + 0.004*\"infrastructure\" + 0.004*\"pakistan\" + 0.004*\"efficiency\" + 0.004*\"chinas\" + 0.004*\"countries\" + 0.003*\"chinese\" + 0.003*\"development\" + 0.003*\"asia\" + 0.003*\"renewable\" + 0.003*\"power\" + 0.003*\"billion\" + 0.003*\"trade\" + 0.003*\"investment\" + 0.002*\"within\" + 0.002*\"world\" + 0.002*\"production\" + 0.002*\"also\" + 0.002*\"global\" + 0.002*\"project\" + 0.002*\"policy\" + 0.002*\"usd\" + 0.002*\"one\" + 0.002*\"debt\" + 0.002*\"international\" + 0.002*\"risks\" + 0.002*\"foreign\" + 0.002*\"investments\" + 0.002*\"since\" + 0.002*\"published\" + 0.002*\"english\" + 0.002*\"analysis\" + 0.002*\"xi\" + 0.002*\"study\" + 0.002*\"us\" + 0.001*\"pakistans\" + 0.001*\"solar\" + 0.001*\"could\" + 0.001*\"engagement\" + 0.001*\"corridor\" + 0.001*\"india\" + 0.001*\"significant\"')\n",
            "(14, '0.011*\"china\" + 0.010*\"power\" + 0.009*\"energy\" + 0.009*\"projects\" + 0.009*\"pakistan\" + 0.006*\"economic\" + 0.005*\"chinese\" + 0.005*\"chinas\" + 0.005*\"project\" + 0.005*\"cpec\" + 0.004*\"coal\" + 0.004*\"development\" + 0.004*\"efficiency\" + 0.003*\"billion\" + 0.003*\"bri\" + 0.003*\"renewable\" + 0.003*\"asia\" + 0.003*\"road\" + 0.003*\"pakistans\" + 0.002*\"foreign\" + 0.002*\"also\" + 0.002*\"investments\" + 0.002*\"gwadar\" + 0.002*\"usd\" + 0.002*\"countries\" + 0.002*\"international\" + 0.002*\"infrastructure\" + 0.002*\"april\" + 0.002*\"production\" + 0.002*\"would\" + 0.002*\"financial\" + 0.002*\"corridor\" + 0.002*\"major\" + 0.002*\"investment\" + 0.002*\"construction\" + 0.002*\"belt\" + 0.002*\"significant\" + 0.002*\"payments\" + 0.002*\"new\" + 0.002*\"policy\" + 0.002*\"plant\" + 0.002*\"capacity\" + 0.002*\"india\" + 0.002*\"engagement\" + 0.002*\"mw\" + 0.001*\"beijing\" + 0.001*\"solar\" + 0.001*\"global\" + 0.001*\"wind\" + 0.001*\"one\"')\n",
            "(35, '0.017*\"energy\" + 0.006*\"cpec\" + 0.006*\"efficiency\" + 0.005*\"china\" + 0.005*\"bri\" + 0.004*\"renewable\" + 0.004*\"projects\" + 0.004*\"usd\" + 0.004*\"economic\" + 0.004*\"billion\" + 0.004*\"chinese\" + 0.003*\"pakistan\" + 0.003*\"engagement\" + 0.003*\"development\" + 0.003*\"countries\" + 0.003*\"chinas\" + 0.003*\"power\" + 0.003*\"infrastructure\" + 0.002*\"growth\" + 0.002*\"international\" + 0.002*\"also\" + 0.002*\"solar\" + 0.002*\"investment\" + 0.002*\"road\" + 0.002*\"within\" + 0.002*\"production\" + 0.002*\"asia\" + 0.002*\"biofuel\" + 0.002*\"initiative\" + 0.002*\"project\" + 0.002*\"investments\" + 0.002*\"debt\" + 0.002*\"research\" + 0.002*\"construction\" + 0.001*\"electricity\" + 0.001*\"global\" + 0.001*\"trade\" + 0.001*\"corridor\" + 0.001*\"green\" + 0.001*\"challenges\" + 0.001*\"policy\" + 0.001*\"analysis\" + 0.001*\"google\" + 0.001*\"companies\" + 0.001*\"pv\" + 0.001*\"gwadar\" + 0.001*\"financial\" + 0.001*\"beijing\" + 0.001*\"pakistans\" + 0.001*\"regional\"')\n",
            "(38, '0.013*\"china\" + 0.008*\"energy\" + 0.007*\"cpec\" + 0.007*\"pakistan\" + 0.007*\"baloch\" + 0.006*\"chinas\" + 0.005*\"projects\" + 0.005*\"billion\" + 0.005*\"chinese\" + 0.004*\"cent\" + 0.004*\"bri\" + 0.004*\"economic\" + 0.004*\"road\" + 0.004*\"foreign\" + 0.004*\"belt\" + 0.004*\"lowy\" + 0.004*\"initiative\" + 0.004*\"investments\" + 0.004*\"debt\" + 0.003*\"institute\" + 0.003*\"efficiency\" + 0.003*\"countries\" + 0.003*\"province\" + 0.003*\"international\" + 0.003*\"renewable\" + 0.003*\"development\" + 0.003*\"events\" + 0.003*\"default\" + 0.003*\"decade\" + 0.003*\"kilometres\" + 0.002*\"pakistans\" + 0.002*\"latest\" + 0.002*\"world\" + 0.002*\"per\" + 0.002*\"engagement\" + 0.002*\"hype\" + 0.002*\"analysis\" + 0.002*\"came\" + 0.002*\"usd\" + 0.002*\"year\" + 0.002*\"one\" + 0.002*\"commentary\" + 0.002*\"balochistan\" + 0.002*\"far\" + 0.002*\"experience\" + 0.002*\"published\" + 0.002*\"might\" + 0.002*\"progress\" + 0.002*\"last\" + 0.002*\"also\"')\n",
            "(18, '0.014*\"energy\" + 0.006*\"china\" + 0.005*\"bri\" + 0.005*\"chinese\" + 0.005*\"efficiency\" + 0.004*\"renewable\" + 0.004*\"chinas\" + 0.004*\"engagement\" + 0.004*\"economic\" + 0.004*\"power\" + 0.004*\"projects\" + 0.003*\"countries\" + 0.003*\"usd\" + 0.003*\"development\" + 0.003*\"asia\" + 0.003*\"infrastructure\" + 0.003*\"investments\" + 0.003*\"also\" + 0.002*\"pakistan\" + 0.002*\"road\" + 0.002*\"billion\" + 0.002*\"solar\" + 0.002*\"within\" + 0.002*\"production\" + 0.002*\"cpec\" + 0.002*\"investment\" + 0.002*\"international\" + 0.002*\"financial\" + 0.002*\"project\" + 0.002*\"initiative\" + 0.002*\"environmental\" + 0.002*\"green\" + 0.002*\"analysis\" + 0.002*\"research\" + 0.001*\"belt\" + 0.001*\"policy\" + 0.001*\"global\" + 0.001*\"finance\" + 0.001*\"india\" + 0.001*\"significant\" + 0.001*\"challenges\" + 0.001*\"government\" + 0.001*\"south\" + 0.001*\"foreign\" + 0.001*\"pv\" + 0.001*\"corridor\" + 0.001*\"one\" + 0.001*\"april\" + 0.001*\"debt\" + 0.001*\"eg\"')\n",
            "(12, '0.028*\"energy\" + 0.008*\"projects\" + 0.007*\"renewable\" + 0.007*\"efficiency\" + 0.007*\"china\" + 0.006*\"power\" + 0.006*\"cpec\" + 0.005*\"pakistan\" + 0.004*\"chinese\" + 0.004*\"development\" + 0.004*\"chinas\" + 0.004*\"production\" + 0.003*\"economic\" + 0.003*\"bri\" + 0.003*\"study\" + 0.003*\"usd\" + 0.003*\"billion\" + 0.003*\"infrastructure\" + 0.003*\"solar\" + 0.002*\"within\" + 0.002*\"investments\" + 0.002*\"project\" + 0.002*\"engagement\" + 0.002*\"impact\" + 0.002*\"financial\" + 0.002*\"countries\" + 0.002*\"environmental\" + 0.002*\"challenges\" + 0.002*\"significant\" + 0.002*\"geothermal\" + 0.002*\"policy\" + 0.002*\"also\" + 0.002*\"pp\" + 0.002*\"investment\" + 0.002*\"research\" + 0.002*\"pv\" + 0.002*\"sources\" + 0.002*\"analysis\" + 0.002*\"google\" + 0.002*\"international\" + 0.002*\"twh\" + 0.002*\"government\" + 0.002*\"belt\" + 0.002*\"data\" + 0.002*\"green\" + 0.002*\"including\" + 0.002*\"construction\" + 0.002*\"road\" + 0.002*\"grid\" + 0.002*\"support\"')\n",
            "(30, '0.017*\"energy\" + 0.015*\"cpec\" + 0.015*\"projects\" + 0.010*\"jobs\" + 0.008*\"pakistan\" + 0.008*\"pakistanis\" + 0.008*\"project\" + 0.008*\"created\" + 0.007*\"around\" + 0.006*\"infrastructure\" + 0.006*\"employment\" + 0.005*\"direct\" + 0.005*\"engineers\" + 0.005*\"efficiency\" + 0.005*\"china\" + 0.005*\"economic\" + 0.005*\"opportunities\" + 0.004*\"construction\" + 0.004*\"gwadar\" + 0.004*\"data\" + 0.004*\"sector\" + 0.004*\"country\" + 0.004*\"create\" + 0.004*\"would\" + 0.004*\"working\" + 0.004*\"development\" + 0.004*\"could\" + 0.003*\"generate\" + 0.003*\"power\" + 0.003*\"locals\" + 0.003*\"pakistani\" + 0.003*\"documents\" + 0.003*\"besides\" + 0.003*\"second\" + 0.003*\"road\" + 0.003*\"renewable\" + 0.003*\"bri\" + 0.003*\"official\" + 0.003*\"fully\" + 0.003*\"chinas\" + 0.003*\"portfolio\" + 0.003*\"solar\" + 0.002*\"railway\" + 0.002*\"phase\" + 0.002*\"one\" + 0.002*\"term\" + 0.002*\"job\" + 0.002*\"thousands\" + 0.002*\"indirect\" + 0.002*\"production\"')\n",
            "(41, '0.013*\"china\" + 0.009*\"belt\" + 0.008*\"initiative\" + 0.007*\"road\" + 0.007*\"bri\" + 0.006*\"energy\" + 0.006*\"countries\" + 0.005*\"infrastructure\" + 0.005*\"economic\" + 0.004*\"trade\" + 0.004*\"pakistan\" + 0.004*\"projects\" + 0.003*\"investment\" + 0.003*\"billion\" + 0.003*\"cpec\" + 0.003*\"chinas\" + 0.003*\"chinese\" + 0.003*\"world\" + 0.003*\"usd\" + 0.003*\"investments\" + 0.003*\"renewable\" + 0.003*\"efficiency\" + 0.003*\"debt\" + 0.002*\"global\" + 0.002*\"risks\" + 0.002*\"environmental\" + 0.002*\"english\" + 0.002*\"economies\" + 0.002*\"development\" + 0.002*\"international\" + 0.002*\"bank\" + 0.002*\"also\" + 0.002*\"asia\" + 0.002*\"us\" + 0.002*\"foreign\" + 0.002*\"research\" + 0.002*\"policy\" + 0.002*\"project\" + 0.002*\"published\" + 0.002*\"engagement\" + 0.002*\"corridor\" + 0.002*\"group\" + 0.002*\"east\" + 0.001*\"within\" + 0.001*\"michele\" + 0.001*\"december\" + 0.001*\"south\" + 0.001*\"would\" + 0.001*\"along\" + 0.001*\"analysis\"')\n",
            "(32, '0.008*\"energy\" + 0.005*\"projects\" + 0.004*\"bri\" + 0.004*\"china\" + 0.004*\"road\" + 0.003*\"belt\" + 0.003*\"engagement\" + 0.003*\"efficiency\" + 0.003*\"initiative\" + 0.003*\"cpec\" + 0.003*\"countries\" + 0.002*\"renewable\" + 0.002*\"power\" + 0.002*\"investment\" + 0.002*\"billion\" + 0.002*\"development\" + 0.002*\"pakistan\" + 0.002*\"project\" + 0.002*\"chinese\" + 0.002*\"infrastructure\" + 0.002*\"economic\" + 0.002*\"chinas\" + 0.002*\"solar\" + 0.002*\"investments\" + 0.002*\"data\" + 0.002*\"usd\" + 0.002*\"coal\" + 0.002*\"trade\" + 0.002*\"world\" + 0.002*\"within\" + 0.001*\"production\" + 0.001*\"gwadar\" + 0.001*\"construction\" + 0.001*\"significant\" + 0.001*\"global\" + 0.001*\"green\" + 0.001*\"analysis\" + 0.001*\"also\" + 0.001*\"risks\" + 0.001*\"finance\" + 0.001*\"published\" + 0.001*\"economies\" + 0.001*\"debt\" + 0.001*\"environmental\" + 0.001*\"foreign\" + 0.001*\"international\" + 0.001*\"one\" + 0.001*\"sector\" + 0.001*\"asia\" + 0.001*\"study\"')\n",
            "(15, '0.013*\"china\" + 0.007*\"bri\" + 0.007*\"cpec\" + 0.006*\"chinese\" + 0.005*\"chinas\" + 0.005*\"projects\" + 0.005*\"pakistan\" + 0.004*\"energy\" + 0.004*\"belt\" + 0.004*\"road\" + 0.004*\"countries\" + 0.004*\"engagement\" + 0.004*\"investments\" + 0.003*\"economic\" + 0.003*\"billion\" + 0.003*\"infrastructure\" + 0.003*\"usd\" + 0.003*\"asia\" + 0.003*\"initiative\" + 0.002*\"international\" + 0.002*\"debt\" + 0.002*\"global\" + 0.002*\"development\" + 0.002*\"pakistans\" + 0.002*\"investment\" + 0.002*\"construction\" + 0.002*\"new\" + 0.002*\"project\" + 0.002*\"south\" + 0.002*\"policy\" + 0.002*\"trade\" + 0.002*\"corridor\" + 0.002*\"east\" + 0.002*\"financial\" + 0.002*\"foreign\" + 0.002*\"also\" + 0.002*\"one\" + 0.002*\"would\" + 0.002*\"power\" + 0.002*\"jobs\" + 0.002*\"environmental\" + 0.001*\"growth\" + 0.001*\"green\" + 0.001*\"us\" + 0.001*\"beijing\" + 0.001*\"security\" + 0.001*\"world\" + 0.001*\"renewable\" + 0.001*\"since\" + 0.001*\"india\"')\n",
            "(40, '0.011*\"energy\" + 0.009*\"china\" + 0.007*\"economic\" + 0.005*\"power\" + 0.004*\"sezs\" + 0.004*\"development\" + 0.004*\"chinas\" + 0.004*\"pakistan\" + 0.004*\"projects\" + 0.004*\"efficiency\" + 0.004*\"chinese\" + 0.003*\"asia\" + 0.003*\"cpec\" + 0.003*\"bri\" + 0.003*\"also\" + 0.003*\"infrastructure\" + 0.002*\"investment\" + 0.002*\"distribution\" + 0.002*\"supply\" + 0.002*\"industrial\" + 0.002*\"electricity\" + 0.002*\"initiative\" + 0.002*\"project\" + 0.002*\"policy\" + 0.002*\"road\" + 0.002*\"corridor\" + 0.002*\"countries\" + 0.002*\"mechanism\" + 0.002*\"xi\" + 0.002*\"april\" + 0.002*\"renewable\" + 0.002*\"pakistans\" + 0.002*\"international\" + 0.002*\"would\" + 0.002*\"india\" + 0.002*\"silk\" + 0.002*\"discos\" + 0.002*\"foreign\" + 0.002*\"south\" + 0.002*\"special\" + 0.002*\"new\" + 0.002*\"agreement\" + 0.002*\"within\" + 0.001*\"nepra\" + 0.001*\"billion\" + 0.001*\"challenges\" + 0.001*\"us\" + 0.001*\"production\" + 0.001*\"growth\" + 0.001*\"solar\"')\n",
            "(45, '0.011*\"content\" + 0.011*\"site\" + 0.007*\"team\" + 0.006*\"support\" + 0.006*\"terms\" + 0.006*\"information\" + 0.006*\"used\" + 0.006*\"technologies\" + 0.006*\"including\" + 0.006*\"training\" + 0.006*\"mining\" + 0.006*\"apply\" + 0.006*\"access\" + 0.006*\"relevant\" + 0.006*\"data\" + 0.006*\"details\" + 0.006*\"similar\" + 0.006*\"copyright\" + 0.005*\"rights\" + 0.005*\"provide\" + 0.005*\"open\" + 0.005*\"please\" + 0.005*\"contact\" + 0.005*\"licensors\" + 0.005*\"cookies\" + 0.005*\"ai\" + 0.005*\"bv\" + 0.005*\"licensing\" + 0.005*\"contributors\" + 0.005*\"text\" + 0.005*\"cookie\" + 0.005*\"reserved\" + 0.005*\"settings\" + 0.005*\"elsevier\" + 0.005*\"energy\" + 0.004*\"cpec\" + 0.004*\"china\" + 0.004*\"chinese\" + 0.004*\"pakistan\" + 0.003*\"chinas\" + 0.003*\"renewable\" + 0.003*\"efficiency\" + 0.002*\"projects\" + 0.002*\"project\" + 0.002*\"bri\" + 0.002*\"countries\" + 0.002*\"infrastructure\" + 0.002*\"power\" + 0.002*\"billion\" + 0.002*\"development\"')\n",
            "(34, '0.008*\"energy\" + 0.006*\"china\" + 0.005*\"projects\" + 0.005*\"power\" + 0.004*\"cpec\" + 0.004*\"chinese\" + 0.004*\"road\" + 0.004*\"bri\" + 0.004*\"efficiency\" + 0.004*\"sezs\" + 0.003*\"belt\" + 0.003*\"billion\" + 0.003*\"economic\" + 0.003*\"development\" + 0.003*\"infrastructure\" + 0.003*\"initiative\" + 0.002*\"pakistan\" + 0.002*\"electricity\" + 0.002*\"renewable\" + 0.002*\"countries\" + 0.002*\"also\" + 0.002*\"usd\" + 0.002*\"investment\" + 0.002*\"supply\" + 0.002*\"distribution\" + 0.002*\"project\" + 0.002*\"production\" + 0.002*\"corridor\" + 0.002*\"chinas\" + 0.002*\"asia\" + 0.002*\"solar\" + 0.002*\"investments\" + 0.002*\"within\" + 0.002*\"international\" + 0.002*\"engagement\" + 0.002*\"growth\" + 0.001*\"debt\" + 0.001*\"world\" + 0.001*\"discos\" + 0.001*\"trade\" + 0.001*\"regulatory\" + 0.001*\"would\" + 0.001*\"industrial\" + 0.001*\"green\" + 0.001*\"challenges\" + 0.001*\"ministry\" + 0.001*\"foreign\" + 0.001*\"coal\" + 0.001*\"mechanism\" + 0.001*\"economies\"')\n",
            "(11, '0.023*\"energy\" + 0.010*\"efficiency\" + 0.008*\"renewable\" + 0.008*\"cpec\" + 0.006*\"china\" + 0.005*\"development\" + 0.004*\"production\" + 0.004*\"economic\" + 0.004*\"projects\" + 0.003*\"pakistan\" + 0.003*\"chinas\" + 0.003*\"solar\" + 0.003*\"within\" + 0.003*\"countries\" + 0.003*\"analysis\" + 0.003*\"biofuel\" + 0.003*\"infrastructure\" + 0.002*\"chinese\" + 0.002*\"geothermal\" + 0.002*\"study\" + 0.002*\"pv\" + 0.002*\"significant\" + 0.002*\"bri\" + 0.002*\"policy\" + 0.002*\"corridor\" + 0.002*\"also\" + 0.002*\"sources\" + 0.002*\"challenges\" + 0.002*\"international\" + 0.002*\"twh\" + 0.002*\"power\" + 0.002*\"environmental\" + 0.002*\"investments\" + 0.002*\"data\" + 0.002*\"investment\" + 0.002*\"pp\" + 0.002*\"technologies\" + 0.002*\"engagement\" + 0.002*\"overall\" + 0.002*\"sustainable\" + 0.002*\"road\" + 0.002*\"research\" + 0.002*\"google\" + 0.002*\"asia\" + 0.001*\"integration\" + 0.001*\"scholar\" + 0.001*\"impact\" + 0.001*\"one\" + 0.001*\"south\" + 0.001*\"wind\"')\n",
            "(7, '0.010*\"energy\" + 0.005*\"efficiency\" + 0.003*\"renewable\" + 0.003*\"china\" + 0.002*\"cpec\" + 0.002*\"chinese\" + 0.002*\"economic\" + 0.002*\"usd\" + 0.002*\"production\" + 0.002*\"pakistan\" + 0.002*\"within\" + 0.002*\"chinas\" + 0.002*\"projects\" + 0.002*\"significant\" + 0.002*\"development\" + 0.002*\"solar\" + 0.002*\"billion\" + 0.002*\"biofuel\" + 0.001*\"study\" + 0.001*\"pv\" + 0.001*\"investments\" + 0.001*\"bri\" + 0.001*\"environmental\" + 0.001*\"analysis\" + 0.001*\"investment\" + 0.001*\"pp\" + 0.001*\"geothermal\" + 0.001*\"also\" + 0.001*\"asia\" + 0.001*\"google\" + 0.001*\"integration\" + 0.001*\"engagement\" + 0.001*\"research\" + 0.001*\"policy\" + 0.001*\"data\" + 0.001*\"sector\" + 0.001*\"power\" + 0.001*\"international\" + 0.001*\"corridor\" + 0.001*\"impact\" + 0.001*\"grid\" + 0.001*\"sources\" + 0.001*\"infrastructure\" + 0.001*\"technologies\" + 0.001*\"particularly\" + 0.001*\"project\" + 0.001*\"overall\" + 0.001*\"countries\" + 0.001*\"scholar\" + 0.001*\"potential\"')\n"
          ]
        }
      ]
    },
    {
      "cell_type": "code",
      "source": [
        "import nltk\n",
        "from nltk.corpus import stopwords\n",
        "from nltk import FreqDist\n",
        "\n",
        "all_tokens = [token for article in cleaned_articles for token in article]\n",
        "\n",
        "stop_words = set(stopwords.words('english'))\n",
        "filtered_tokens = [token for token in all_tokens if token.lower() not in stop_words and token.isalnum()]\n",
        "\n",
        "fdist = FreqDist(filtered_tokens)\n",
        "\n",
        "most_common_words = fdist.most_common(20)\n",
        "\n",
        "for word, frequency in most_common_words:\n",
        "    print(f\"{word}: {frequency}\")\n",
        "\n",
        "nltk.download('averaged_perceptron_tagger_eng')\n",
        "tagged_tokens = nltk.pos_tag(filtered_tokens)\n",
        "\n",
        "nouns_verbs = [word for word, pos in tagged_tokens if pos.startswith('N') or pos.startswith('V')]\n",
        "fdist_nouns_verbs = FreqDist(nouns_verbs)\n",
        "most_common_nouns_verbs = fdist_nouns_verbs.most_common(20)\n",
        "\n",
        "for word, frequency in most_common_nouns_verbs:\n",
        "    print(f\"{word}: {frequency}\")"
      ],
      "metadata": {
        "colab": {
          "base_uri": "https://localhost:8080/"
        },
        "id": "zxFIfITUQsVu",
        "outputId": "4d5719ff-bd94-4ded-d215-518033ae88a2"
      },
      "execution_count": 92,
      "outputs": [
        {
          "output_type": "stream",
          "name": "stderr",
          "text": [
            "/usr/local/lib/python3.10/dist-packages/ipykernel/ipkernel.py:283: DeprecationWarning: `should_run_async` will not call `transform_cell` automatically in the future. Please pass the result to `transformed_cell` argument and any exception that happen during thetransform in `preprocessing_exc_tuple` in IPython 7.17 and above.\n",
            "  and should_run_async(code)\n",
            "[nltk_data] Downloading package averaged_perceptron_tagger_eng to\n",
            "[nltk_data]     /root/nltk_data...\n",
            "[nltk_data]   Package averaged_perceptron_tagger_eng is already up-to-\n",
            "[nltk_data]       date!\n"
          ]
        },
        {
          "output_type": "stream",
          "name": "stdout",
          "text": [
            "energy: 493\n",
            "china: 260\n",
            "cpec: 184\n",
            "projects: 182\n",
            "pakistan: 176\n",
            "efficiency: 166\n",
            "chinese: 145\n",
            "economic: 142\n",
            "bri: 137\n",
            "power: 135\n",
            "renewable: 133\n",
            "chinas: 126\n",
            "development: 115\n",
            "road: 105\n",
            "project: 95\n",
            "infrastructure: 94\n",
            "countries: 89\n",
            "billion: 88\n",
            "belt: 83\n",
            "initiative: 81\n",
            "energy: 493\n",
            "china: 218\n",
            "projects: 182\n",
            "efficiency: 166\n",
            "cpec: 142\n",
            "power: 135\n",
            "development: 115\n",
            "road: 105\n",
            "pakistan: 102\n",
            "bri: 99\n",
            "chinas: 98\n",
            "infrastructure: 91\n",
            "project: 90\n",
            "countries: 89\n",
            "belt: 75\n",
            "production: 69\n",
            "investment: 66\n",
            "investments: 64\n",
            "trade: 60\n",
            "corridor: 56\n"
          ]
        }
      ]
    }
  ]
}